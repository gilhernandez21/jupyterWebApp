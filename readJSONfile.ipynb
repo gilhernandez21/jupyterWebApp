{
 "cells": [
  {
   "cell_type": "code",
   "execution_count": 1,
   "id": "9ba7d8f8",
   "metadata": {},
   "outputs": [
    {
     "name": "stdout",
     "output_type": "stream",
     "text": [
      "Hello\n"
     ]
    }
   ],
   "source": [
    "print(\"Hello\")"
   ]
  },
  {
   "cell_type": "code",
   "execution_count": 2,
   "id": "859a4340",
   "metadata": {},
   "outputs": [],
   "source": [
    "import os\n",
    "import pandas as pd\n",
    "import numpy as np\n",
    "import sys\n",
    "import json\n",
    "import warnings\n",
    "warnings.filterwarnings('ignore')\n",
    "import ipywidgets as widgets\n",
    "from IPython.display import display, clear_output\n",
    "from datetime import datetime\n",
    "from urllib.request import urlopen\n"
   ]
  },
  {
   "cell_type": "code",
   "execution_count": 3,
   "id": "e6cedae9",
   "metadata": {},
   "outputs": [
    {
     "name": "stderr",
     "output_type": "stream",
     "text": [
      "Enabling notebook extension jupyter-js-widgets/extension...\n",
      "      - Validating: ok\n",
      "Enabling: voila\n",
      "- Writing config: C:\\Users\\gilbe\\anaconda3\\envs\\jupyterWebApp\\etc\\jupyter\n",
      "    - Validating...\n",
      "      voila 0.2.10 ok\n"
     ]
    }
   ],
   "source": [
    "!jupyter nbextension enable --py widgetsnbextension --sys-prefix\n",
    "!jupyter serverextension enable voila --sys-prefix"
   ]
  },
  {
   "cell_type": "code",
   "execution_count": 4,
   "id": "17028201",
   "metadata": {},
   "outputs": [],
   "source": [
    "filePath = \"C:\\\\Users\\\\gilbe\\\\Documents\\\\GitHub\\\\jupyterWebApp\\\\\"\n",
    "fileName = \"capsule_summary_input_request.json\"\n",
    "\n",
    "#print(filePath + fileName)\n",
    "with open(filePath + fileName,\"r\") as f:\n",
    "    data = json.load(f)\n",
    "\n",
    "#print(data)"
   ]
  },
  {
   "cell_type": "code",
   "execution_count": 5,
   "id": "e6cf5649",
   "metadata": {},
   "outputs": [],
   "source": [
    "#set up variables for type of report and time frame\n",
    "reportType = ''\n",
    "reportTypeKey = data['@type']\n",
    "reportType += reportTypeKey\n",
    "reportStart = datetime.strptime(data['startDate'].replace(\"T\",\" \",1),'%Y-%m-%d %H:%M:%S')\n",
    "reportEnd = datetime.strptime(data['endDate'].replace(\"T\",\" \",1),'%Y-%m-%d %H:%M:%S')\n",
    "\n",
    "#print(reportType,reportStart,reportEnd)\n",
    "#print(reportType == \"PythonCapsuleCalcRequest\")\n",
    "#print(reportEnd < reportEnd)\n"
   ]
  },
  {
   "cell_type": "code",
   "execution_count": 6,
   "id": "90c1c172",
   "metadata": {},
   "outputs": [],
   "source": [
    "#print(data['valueDetailList'][0])"
   ]
  },
  {
   "cell_type": "code",
   "execution_count": 7,
   "id": "1d20d633",
   "metadata": {},
   "outputs": [],
   "source": [
    "#for types in data['valueDetailList']:\n",
    "    #print(types['@type'])"
   ]
  },
  {
   "cell_type": "code",
   "execution_count": 25,
   "id": "a861d006",
   "metadata": {},
   "outputs": [],
   "source": [
    "pd.set_option('display.max_rows', 500)\n",
    "all_DF = []\n",
    "dataTypes = []\n",
    "for typ in data['valueDetailList']:\n",
    "    #print(typ['type'])\n",
    "    #print(typ['valueInfoList'])\n",
    "    all_DF.append([typ['type'],pd.DataFrame(typ['valueInfoList'])])\n",
    "    dataTypes.append(typ['type'])\n",
    "#display(all_DF[0][1].cross_map_header)\n"
   ]
  },
  {
   "cell_type": "code",
   "execution_count": 9,
   "id": "6e8dfe24",
   "metadata": {},
   "outputs": [],
   "source": [
    "def getUserInput():\n",
    "    UI = input(\"Would you like to view...\\n0.Riser Data\\n1.Well Data\\n2.Max ROC\\n3.Event Marker\\n4.Well Flowing Alignment\\n5.Riser Alignment\\n6.Capsule Summary\\n7.Event Type Configuration\\n8.exit\\n\")\n",
    "    return UI"
   ]
  },
  {
   "cell_type": "code",
   "execution_count": 10,
   "id": "28be9c74",
   "metadata": {},
   "outputs": [],
   "source": [
    "#getUserInput()"
   ]
  },
  {
   "cell_type": "code",
   "execution_count": 11,
   "id": "5a41f31e",
   "metadata": {},
   "outputs": [],
   "source": [
    "def runApp():\n",
    "    run = 1\n",
    "    while run:\n",
    "        try:\n",
    "            ui = int(getUserInput())\n",
    "            if ui == 8:\n",
    "                run = 0\n",
    "                break\n",
    "            else:\n",
    "                showData(dataTypes[ui])\n",
    "        except:\n",
    "            print(\"Please enter a valid entry!\")"
   ]
  },
  {
   "cell_type": "code",
   "execution_count": 12,
   "id": "0f7e0169",
   "metadata": {},
   "outputs": [],
   "source": [
    "def showData(typ):\n",
    "    for df in all_DF:\n",
    "        if typ in df[0]:\n",
    "            print(\"Below is the {} info\".format(typ))\n",
    "            display(df[1])\n",
    "            \n",
    "#showData(dataTypes[1])"
   ]
  },
  {
   "cell_type": "code",
   "execution_count": 13,
   "id": "b008a544",
   "metadata": {},
   "outputs": [],
   "source": [
    "#runApp()"
   ]
  },
  {
   "cell_type": "code",
   "execution_count": 14,
   "id": "a31ecbe0",
   "metadata": {},
   "outputs": [],
   "source": [
    "all_risers=[]\n",
    "for ris in all_DF[0][1].cross_map_header:\n",
    "    if ris not in all_risers:\n",
    "        all_risers.append(ris)\n",
    "\n",
    "#print(all_risers)"
   ]
  },
  {
   "cell_type": "code",
   "execution_count": 15,
   "id": "589ba7bc",
   "metadata": {},
   "outputs": [
    {
     "data": {
      "text/html": [
       "<div>\n",
       "<style scoped>\n",
       "    .dataframe tbody tr th:only-of-type {\n",
       "        vertical-align: middle;\n",
       "    }\n",
       "\n",
       "    .dataframe tbody tr th {\n",
       "        vertical-align: top;\n",
       "    }\n",
       "\n",
       "    .dataframe thead th {\n",
       "        text-align: right;\n",
       "    }\n",
       "</style>\n",
       "<table border=\"1\" class=\"dataframe\">\n",
       "  <thead>\n",
       "    <tr style=\"text-align: right;\">\n",
       "      <th></th>\n",
       "      <th>@type</th>\n",
       "      <th>riserName</th>\n",
       "      <th>cross_map_header</th>\n",
       "    </tr>\n",
       "  </thead>\n",
       "  <tbody>\n",
       "    <tr>\n",
       "      <th>0</th>\n",
       "      <td>PythonRiserDataValueInfo</td>\n",
       "      <td>35038296</td>\n",
       "      <td>R1</td>\n",
       "    </tr>\n",
       "  </tbody>\n",
       "</table>\n",
       "</div>"
      ],
      "text/plain": [
       "                      @type riserName cross_map_header\n",
       "0  PythonRiserDataValueInfo  35038296               R1"
      ]
     },
     "execution_count": 15,
     "metadata": {},
     "output_type": "execute_result"
    }
   ],
   "source": [
    "all_DF[0][1][all_DF[0][1].cross_map_header == 'R1']"
   ]
  },
  {
   "cell_type": "code",
   "execution_count": 16,
   "id": "6c4aed07",
   "metadata": {},
   "outputs": [],
   "source": [
    "w2 = widgets.Dropdown(\n",
    "    options = all_risers,\n",
    "    value = all_risers[0],\n",
    "    disabled = False,\n",
    "    description= 'View Riser: ',\n",
    ")\n",
    "\n",
    "w3 = widgets.Dropdown(\n",
    "    options = all_risers,\n",
    "    value = all_risers[0],\n",
    "    disabled = False,\n",
    "    description= 'View Riser: ',\n",
    ")"
   ]
  },
  {
   "cell_type": "code",
   "execution_count": 17,
   "id": "8346629f",
   "metadata": {},
   "outputs": [],
   "source": [
    "def getRiserVal(val):\n",
    "    display(all_DF[0][1][all_DF[0][1].cross_map_header == val])\n",
    "def getRiserEventVal(val):\n",
    "    filterRiser = all_DF[0][1][all_DF[0][1].cross_map_header== val].iloc[0].riserName\n",
    "    display(all_DF[3][1][all_DF[3][1].riserId == filterRiser])\n",
    "    print(filterRiser)"
   ]
  },
  {
   "cell_type": "code",
   "execution_count": 26,
   "id": "4093117c",
   "metadata": {},
   "outputs": [],
   "source": [
    "#getRiserEventVal('R1')"
   ]
  },
  {
   "cell_type": "code",
   "execution_count": 27,
   "id": "ad8f64b6",
   "metadata": {},
   "outputs": [],
   "source": [
    "val = all_DF[0][1][all_DF[0][1].cross_map_header== 'R2'].iloc[0].riserName\n",
    "#print(val)"
   ]
  },
  {
   "cell_type": "code",
   "execution_count": 20,
   "id": "09a469bd",
   "metadata": {},
   "outputs": [],
   "source": [
    "#all_DF[0][1].getiloc()"
   ]
  },
  {
   "cell_type": "code",
   "execution_count": 21,
   "id": "1b92dc6b",
   "metadata": {},
   "outputs": [],
   "source": [
    "w = widgets.Dropdown(\n",
    "    options = ['Riser Data','Well Data','Max ROC','Event Marker','Well Flowing Alignment','Riser Alignment','Capsule Summary','Event Type Configuration'],\n",
    "    value = 'Riser Data',\n",
    "    disabled = False,\n",
    "    description= 'View Table: ',\n",
    ")"
   ]
  },
  {
   "cell_type": "code",
   "execution_count": 22,
   "id": "ab4e8907",
   "metadata": {},
   "outputs": [],
   "source": [
    "def getDropVal(val):\n",
    "    if val.lower() == 'riser data':\n",
    "        widgets.interact(getRiserVal,val=w2)\n",
    "        #showData(dataTypes[0])\n",
    "    elif val.lower() == 'well data':\n",
    "        showData(dataTypes[1])\n",
    "    elif val.lower() == 'max roc':\n",
    "        showData(dataTypes[2])\n",
    "    elif val.lower() == 'event marker':\n",
    "        widgets.interact(getRiserEventVal,val=w3)\n",
    "        #showData(dataTypes[3])\n",
    "    elif val.lower() == 'well flowing alignment':\n",
    "        showData(dataTypes[4])\n",
    "    elif val.lower() == 'riser alignment':\n",
    "        showData(dataTypes[5])\n",
    "    elif val.lower() == 'capsule summary':\n",
    "        showData(dataTypes[6])\n",
    "    elif val.lower() == 'event type configuration':\n",
    "        showData(dataTypes[7])\n",
    "    else:\n",
    "        run = 0\n",
    "        print(\"Goodbye..\")"
   ]
  },
  {
   "cell_type": "code",
   "execution_count": 23,
   "id": "63e84821",
   "metadata": {},
   "outputs": [],
   "source": [
    "def runAppWid():\n",
    "    widgets.interact(getDropVal,val=w)\n",
    "    \n"
   ]
  },
  {
   "cell_type": "code",
   "execution_count": 24,
   "id": "1dab3df3",
   "metadata": {},
   "outputs": [
    {
     "data": {
      "application/vnd.jupyter.widget-view+json": {
       "model_id": "f928e3cb0a1e496ba4e08d66d6070779",
       "version_major": 2,
       "version_minor": 0
      },
      "text/plain": [
       "interactive(children=(Dropdown(description='View Table: ', options=('Riser Data', 'Well Data', 'Max ROC', 'Eve…"
      ]
     },
     "metadata": {},
     "output_type": "display_data"
    }
   ],
   "source": [
    "runAppWid()"
   ]
  },
  {
   "cell_type": "markdown",
   "id": "223d2554",
   "metadata": {},
   "source": [
    "Look up jupyter"
   ]
  },
  {
   "cell_type": "code",
   "execution_count": 28,
   "id": "1452a5be",
   "metadata": {},
   "outputs": [],
   "source": [
    "!pip freeze > requirements.txt"
   ]
  },
  {
   "cell_type": "code",
   "execution_count": null,
   "id": "2f8a2fb8",
   "metadata": {},
   "outputs": [],
   "source": []
  },
  {
   "cell_type": "code",
   "execution_count": null,
   "id": "7bd1fe0c",
   "metadata": {},
   "outputs": [],
   "source": []
  },
  {
   "cell_type": "code",
   "execution_count": null,
   "id": "0a66c5c2",
   "metadata": {},
   "outputs": [],
   "source": []
  }
 ],
 "metadata": {
  "kernelspec": {
   "display_name": "Python 3",
   "language": "python",
   "name": "python3"
  },
  "language_info": {
   "codemirror_mode": {
    "name": "ipython",
    "version": 3
   },
   "file_extension": ".py",
   "mimetype": "text/x-python",
   "name": "python",
   "nbconvert_exporter": "python",
   "pygments_lexer": "ipython3",
   "version": "3.8.10"
  }
 },
 "nbformat": 4,
 "nbformat_minor": 5
}
